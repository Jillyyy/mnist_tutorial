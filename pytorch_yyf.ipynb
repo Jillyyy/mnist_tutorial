{
 "cells": [
  {
   "cell_type": "markdown",
   "metadata": {},
   "source": [
    "# Pytorch Tutorial"
   ]
  },
  {
   "cell_type": "markdown",
   "metadata": {},
   "source": [
    "Pytorch is a popular deep learning framework and it's easy to get started."
   ]
  },
  {
   "cell_type": "code",
   "execution_count": 1,
   "metadata": {},
   "outputs": [],
   "source": [
    "import torch\n",
    "import torch.nn as nn\n",
    "import torch.utils.data as data\n",
    "import torchvision\n",
    "import torchvision.transforms as transforms\n",
    "from torch.autograd import Variable\n",
    "from tqdm import tqdm\n",
    "import time\n",
    "\n",
    "BATCH_SIZE = 128\n",
    "NUM_EPOCHS = 10"
   ]
  },
  {
   "cell_type": "markdown",
   "metadata": {},
   "source": [
    "First, we read the mnist data, preprocess them and encapsulate them into dataloader form."
   ]
  },
  {
   "cell_type": "code",
   "execution_count": 2,
   "metadata": {},
   "outputs": [],
   "source": [
    "# preprocessing\n",
    "normalize = transforms.Normalize(mean=[.5], std=[.5])\n",
    "transform = transforms.Compose([transforms.ToTensor(), normalize])\n",
    "\n",
    "# download and load the data\n",
    "train_dataset = torchvision.datasets.MNIST(root='./mnist/', train=True, transform=transform, download=True)\n",
    "test_dataset = torchvision.datasets.MNIST(root='./mnist/', train=False, transform=transform, download=False)\n",
    "\n",
    "# encapsulate them into dataloader form\n",
    "train_loader = data.DataLoader(train_dataset, batch_size=BATCH_SIZE, shuffle=True, drop_last=True)\n",
    "test_loader = data.DataLoader(test_dataset, batch_size=BATCH_SIZE, shuffle=False, drop_last=True)"
   ]
  },
  {
   "cell_type": "markdown",
   "metadata": {},
   "source": [
    "Then, we define the model, object function and optimizer that we use to classify."
   ]
  },
  {
   "cell_type": "code",
   "execution_count": 3,
   "metadata": {},
   "outputs": [],
   "source": [
    "class SimpleNet(nn.Module):\n",
    "# TODO:define model\n",
    "    def __init__(self):\n",
    "        super(SimpleNet, self).__init__()\n",
    "        self.fc1 = nn.Linear(28 * 28, 100)\n",
    "        self.relu = nn.ReLU()\n",
    "        self.fc2 = nn.Linear(100, 10)\n",
    "    \n",
    "    def forward(self,x):\n",
    "        out = self.fc1(x)\n",
    "        out = self.relu(out)\n",
    "        out = self.fc2(out)\n",
    "        return out\n",
    "  \n",
    "model = SimpleNet()\n",
    "\n",
    "# TODO:define loss function and optimiter\n",
    "criterion = nn.CrossEntropyLoss()\n",
    "optimizer = torch.optim.Adam(model.parameters(), lr = 1e-3)"
   ]
  },
  {
   "cell_type": "markdown",
   "metadata": {},
   "source": [
    "Next, we can start to train and evaluate!"
   ]
  },
  {
   "cell_type": "code",
   "execution_count": 4,
   "metadata": {
    "scrolled": false
   },
   "outputs": [
    {
     "name": "stdout",
     "output_type": "stream",
     "text": [
      "current epoch = 0\n",
      "epoch: 0, Train Loss: 0.464605, Train Acc: 0.869775, Test Loss: 0.289795, Test Acc: 0.915164\n",
      "current epoch = 1\n",
      "epoch: 1, Train Loss: 0.262911, Train Acc: 0.923544, Test Loss: 0.228454, Test Acc: 0.932492\n",
      "current epoch = 2\n",
      "epoch: 2, Train Loss: 0.198483, Train Acc: 0.942675, Test Loss: 0.172545, Test Acc: 0.948017\n",
      "current epoch = 3\n",
      "epoch: 3, Train Loss: 0.157924, Train Acc: 0.953659, Test Loss: 0.143415, Test Acc: 0.956530\n",
      "current epoch = 4\n",
      "epoch: 4, Train Loss: 0.133839, Train Acc: 0.960253, Test Loss: 0.146784, Test Acc: 0.955729\n",
      "current epoch = 5\n",
      "epoch: 5, Train Loss: 0.117692, Train Acc: 0.965178, Test Loss: 0.119403, Test Acc: 0.963341\n",
      "current epoch = 6\n",
      "epoch: 6, Train Loss: 0.102711, Train Acc: 0.968767, Test Loss: 0.114211, Test Acc: 0.964143\n",
      "current epoch = 7\n",
      "epoch: 7, Train Loss: 0.093803, Train Acc: 0.971989, Test Loss: 0.123596, Test Acc: 0.962640\n",
      "current epoch = 8\n",
      "epoch: 8, Train Loss: 0.086156, Train Acc: 0.973658, Test Loss: 0.109386, Test Acc: 0.964944\n",
      "current epoch = 9\n",
      "epoch: 9, Train Loss: 0.080043, Train Acc: 0.975394, Test Loss: 0.107673, Test Acc: 0.967047\n"
     ]
    }
   ],
   "source": [
    "# train and evaluate\n",
    "#for epoch in range(NUM_EPOCHS):\n",
    "    #for images, labels in tqdm(train_loader):\n",
    "        # TODO:forward + backward + optimize\n",
    "losses = []\n",
    "acces = []\n",
    "test_losses = []\n",
    "test_acces = []       \n",
    "for epoch in range(NUM_EPOCHS):\n",
    "    print('current epoch = %d' % epoch)\n",
    "    train_loss = 0\n",
    "    train_acc = 0\n",
    "    for step, (images, labels) in enumerate(train_loader): \n",
    "        \n",
    "        images = Variable(images.view(-1, 28 * 28))\n",
    "        labels = Variable(labels)\n",
    "        \n",
    "        optimizer.zero_grad()\n",
    "        \n",
    "        # forward \n",
    "        outputs = model(images)\n",
    "        loss = criterion(outputs, labels)\n",
    "        \n",
    "        # backward\n",
    "        loss.backward()\n",
    "        optimizer.step()\n",
    "        \n",
    "        # record loss\n",
    "        train_loss += loss.item()\n",
    "        \n",
    "        # calculate accuracy\n",
    "        _, pred = outputs.max(1)\n",
    "        num_correct = (pred == labels).sum().item()\n",
    "        acc = num_correct / images.shape[0]\n",
    "        train_acc += acc\n",
    "            \n",
    "    losses.append(train_loss / len(train_loader))\n",
    "    acces.append(train_acc / len(train_loader))\n",
    "    \n",
    "    # evaluate\n",
    "    # TODO:calculate the accuracy using traning and testing dataset\n",
    "    \n",
    "    # calculate accuracy on test set\n",
    "    test_loss = 0\n",
    "    test_acc = 0\n",
    "    model = model.eval()\n",
    "    with torch.no_grad():\n",
    "        for im, label in test_loader:\n",
    "            if torch.cuda.is_available():\n",
    "                im = Variable(im.cuda())\n",
    "                label = Variable(label.cuda())\n",
    "            else:\n",
    "                im = Variable(im.view(-1, 28 * 28))\n",
    "                label = Variable(label)\n",
    "            output = model(im)\n",
    "            loss = criterion(output, label)\n",
    "            \n",
    "            # record loss\n",
    "            test_loss += loss.item()\n",
    "            \n",
    "            # record accuracy\n",
    "            _, pred = output.max(1)\n",
    "            num_correct = (pred == label).sum().item()\n",
    "            acc = num_correct / im.shape[0]\n",
    "            test_acc += acc\n",
    "        \n",
    "        test_losses.append(test_loss / len(test_loader))\n",
    "        test_acces.append(test_acc / len(test_loader))\n",
    "    \n",
    "    print('epoch: {}, Train Loss: {:.6f}, Train Acc: {:.6f}, Test Loss: {:.6f}, Test Acc: {:.6f}'\n",
    "          .format(epoch, train_loss / len(train_loader), train_acc / len(train_loader), \n",
    "                     test_loss / len(test_loader), test_acc / len(test_loader)))\n"
   ]
  },
  {
   "cell_type": "markdown",
   "metadata": {},
   "source": [
    "#### Q5:\n",
    "Please print the training and testing accuracy."
   ]
  },
  {
   "cell_type": "code",
   "execution_count": 5,
   "metadata": {},
   "outputs": [
    {
     "name": "stdout",
     "output_type": "stream",
     "text": [
      "epoch: 0, Train Acc: 0.869775, Test Acc: 0.915164\n",
      "epoch: 1, Train Acc: 0.923544, Test Acc: 0.932492\n",
      "epoch: 2, Train Acc: 0.942675, Test Acc: 0.948017\n",
      "epoch: 3, Train Acc: 0.953659, Test Acc: 0.956530\n",
      "epoch: 4, Train Acc: 0.960253, Test Acc: 0.955729\n",
      "epoch: 5, Train Acc: 0.965178, Test Acc: 0.963341\n",
      "epoch: 6, Train Acc: 0.968767, Test Acc: 0.964143\n",
      "epoch: 7, Train Acc: 0.971989, Test Acc: 0.962640\n",
      "epoch: 8, Train Acc: 0.973658, Test Acc: 0.964944\n",
      "epoch: 9, Train Acc: 0.975394, Test Acc: 0.967047\n"
     ]
    }
   ],
   "source": [
    "for epoch in range(10):\n",
    "    print('epoch: {}, Train Acc: {:.6f}, Test Acc: {:.6f}'.format(epoch, acces[epoch], test_acces[epoch]))"
   ]
  },
  {
   "cell_type": "code",
   "execution_count": null,
   "metadata": {},
   "outputs": [],
   "source": []
  }
 ],
 "metadata": {
  "kernelspec": {
   "display_name": "Python 3",
   "language": "python",
   "name": "python3"
  },
  "language_info": {
   "codemirror_mode": {
    "name": "ipython",
    "version": 3
   },
   "file_extension": ".py",
   "mimetype": "text/x-python",
   "name": "python",
   "nbconvert_exporter": "python",
   "pygments_lexer": "ipython3",
   "version": "3.6.3"
  }
 },
 "nbformat": 4,
 "nbformat_minor": 2
}
