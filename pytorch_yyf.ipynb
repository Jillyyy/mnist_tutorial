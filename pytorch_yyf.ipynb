{
 "cells": [
  {
   "cell_type": "markdown",
   "metadata": {},
   "source": [
    "# Pytorch Tutorial"
   ]
  },
  {
   "cell_type": "markdown",
   "metadata": {},
   "source": [
    "Pytorch is a popular deep learning framework and it's easy to get started."
   ]
  },
  {
   "cell_type": "code",
   "execution_count": 10,
   "metadata": {},
   "outputs": [],
   "source": [
    "import torch\n",
    "import torch.nn as nn\n",
    "import torch.utils.data as data\n",
    "import torchvision\n",
    "import torchvision.transforms as transforms\n",
    "from torch.autograd import Variable\n",
    "from tqdm import tqdm\n",
    "import time\n",
    "\n",
    "BATCH_SIZE = 128\n",
    "NUM_EPOCHS = 10"
   ]
  },
  {
   "cell_type": "markdown",
   "metadata": {},
   "source": [
    "First, we read the mnist data, preprocess them and encapsulate them into dataloader form."
   ]
  },
  {
   "cell_type": "code",
   "execution_count": 11,
   "metadata": {},
   "outputs": [],
   "source": [
    "# preprocessing\n",
    "normalize = transforms.Normalize(mean=[.5], std=[.5])\n",
    "transform = transforms.Compose([transforms.ToTensor(), normalize])\n",
    "\n",
    "# download and load the data\n",
    "train_dataset = torchvision.datasets.MNIST(root='./mnist/', train=True, transform=transform, download=True)\n",
    "test_dataset = torchvision.datasets.MNIST(root='./mnist/', train=False, transform=transform, download=False)\n",
    "\n",
    "# encapsulate them into dataloader form\n",
    "train_loader = data.DataLoader(train_dataset, batch_size=BATCH_SIZE, shuffle=True, drop_last=True)\n",
    "test_loader = data.DataLoader(test_dataset, batch_size=BATCH_SIZE, shuffle=False, drop_last=True)"
   ]
  },
  {
   "cell_type": "markdown",
   "metadata": {},
   "source": [
    "Then, we define the model, object function and optimizer that we use to classify."
   ]
  },
  {
   "cell_type": "code",
   "execution_count": 24,
   "metadata": {},
   "outputs": [],
   "source": [
    "class SimpleNet(nn.Module):\n",
    "# TODO:define model\n",
    "    def __init__(self):\n",
    "        super(SimpleNet, self).__init__()\n",
    "        self.fc1 = nn.Linear(28 * 28, 100)\n",
    "        self.relu = nn.ReLU()\n",
    "        self.fc2 = nn.Linear(100, 10)\n",
    "    \n",
    "    def forward(self,x):\n",
    "        out = self.fc1(x)\n",
    "        out = self.relu(out)\n",
    "        out = self.fc2(out)\n",
    "        return out\n",
    "  \n",
    "model = SimpleNet()\n",
    "\n",
    "# TODO:define loss function and optimiter\n",
    "criterion = nn.CrossEntropyLoss()\n",
    "optimizer = torch.optim.Adam(model.parameters(), lr = 1e-3)"
   ]
  },
  {
   "cell_type": "markdown",
   "metadata": {},
   "source": [
    "Next, we can start to train and evaluate!"
   ]
  },
  {
   "cell_type": "code",
   "execution_count": 25,
   "metadata": {
    "scrolled": false
   },
   "outputs": [
    {
     "name": "stdout",
     "output_type": "stream",
     "text": [
      "current epoch = 0\n",
      "epoch: 0, Train Loss: 0.459084, Train Acc: 0.869374, Test Loss: 0.285975, Test Acc: 0.916967\n",
      "current epoch = 1\n",
      "epoch: 1, Train Loss: 0.260783, Train Acc: 0.923862, Test Loss: 0.211829, Test Acc: 0.938802\n",
      "current epoch = 2\n",
      "epoch: 2, Train Loss: 0.196571, Train Acc: 0.943510, Test Loss: 0.166467, Test Acc: 0.950921\n",
      "current epoch = 3\n",
      "epoch: 3, Train Loss: 0.158625, Train Acc: 0.953860, Test Loss: 0.140512, Test Acc: 0.958333\n",
      "current epoch = 4\n",
      "epoch: 4, Train Loss: 0.130979, Train Acc: 0.961622, Test Loss: 0.121790, Test Acc: 0.962440\n",
      "current epoch = 5\n",
      "epoch: 5, Train Loss: 0.115364, Train Acc: 0.965712, Test Loss: 0.116169, Test Acc: 0.965144\n",
      "current epoch = 6\n",
      "epoch: 6, Train Loss: 0.102980, Train Acc: 0.969050, Test Loss: 0.115577, Test Acc: 0.963942\n",
      "current epoch = 7\n",
      "epoch: 7, Train Loss: 0.092422, Train Acc: 0.972256, Test Loss: 0.117482, Test Acc: 0.965244\n",
      "current epoch = 8\n",
      "epoch: 8, Train Loss: 0.084401, Train Acc: 0.974993, Test Loss: 0.105787, Test Acc: 0.967648\n",
      "current epoch = 9\n",
      "epoch: 9, Train Loss: 0.077457, Train Acc: 0.976496, Test Loss: 0.101312, Test Acc: 0.970353\n"
     ]
    }
   ],
   "source": [
    "# train and evaluate\n",
    "#for epoch in range(NUM_EPOCHS):\n",
    "    #for images, labels in tqdm(train_loader):\n",
    "        # TODO:forward + backward + optimize\n",
    "losses = []\n",
    "acces = []\n",
    "test_losses = []\n",
    "test_acces = []       \n",
    "for epoch in range(NUM_EPOCHS):\n",
    "    print('current epoch = %d' % epoch)\n",
    "    train_loss = 0\n",
    "    train_acc = 0\n",
    "    for step, (images, labels) in enumerate(train_loader): #利用enumerate取出一个可迭代对象的内容\n",
    "        \n",
    "        images = Variable(images.view(-1, 28 * 28))\n",
    "        labels = Variable(labels)\n",
    "        \n",
    "        optimizer.zero_grad()\n",
    "        # forward \n",
    "#         out = model.fc1(images)\n",
    "#         out = model.relu(out)\n",
    "#         outputs = model.fc2(out)\n",
    "        outputs = model(images)\n",
    "        loss = criterion(outputs, labels)\n",
    "        # backward\n",
    "        loss.backward()\n",
    "        optimizer.step()\n",
    "        \n",
    "        # 记录误差\n",
    "        train_loss += loss.item()\n",
    "        # 计算分类的准确率\n",
    "        _, pred = outputs.max(1)\n",
    "        num_correct = (pred == labels).sum().item()\n",
    "        acc = num_correct / images.shape[0]\n",
    "        train_acc += acc\n",
    "            \n",
    "    losses.append(train_loss / len(train_loader))\n",
    "    acces.append(train_acc / len(train_loader))\n",
    "    \n",
    "    # evaluate\n",
    "    # TODO:calculate the accuracy using traning and testing dataset\n",
    "    \n",
    "    # 在测试集上检验效果\n",
    "    test_loss = 0\n",
    "    test_acc = 0\n",
    "    model = model.eval()\n",
    "    with torch.no_grad():\n",
    "        for im, label in test_loader:\n",
    "            if torch.cuda.is_available():\n",
    "                im = Variable(im.cuda())\n",
    "                label = Variable(label.cuda())\n",
    "            else:\n",
    "                im = Variable(im.view(-1, 28 * 28))\n",
    "                label = Variable(label)\n",
    "            output = model(im)\n",
    "            loss = criterion(output, label)\n",
    "            # 记录误差\n",
    "            test_loss += loss.item()\n",
    "            # 记录准确率\n",
    "            _, pred = output.max(1)\n",
    "            num_correct = (pred == label).sum().item()\n",
    "            acc = num_correct / im.shape[0]\n",
    "            test_acc += acc\n",
    "        \n",
    "        test_losses.append(test_loss / len(test_loader))\n",
    "        test_acces.append(test_acc / len(test_loader))\n",
    "    \n",
    "    print('epoch: {}, Train Loss: {:.6f}, Train Acc: {:.6f}, Test Loss: {:.6f}, Test Acc: {:.6f}'\n",
    "          .format(epoch, train_loss / len(train_loader), train_acc / len(train_loader), \n",
    "                     test_loss / len(test_loader), test_acc / len(test_loader)))\n",
    "              \n",
    "        \n",
    "\n",
    "#     out = model.fc1(images)\n",
    "#     out = model.relu(out)\n",
    "#     test_output = model.fc2(out)\n",
    "#     test_output = model(images)\n",
    "#     _, test_predicts = torch.max(test_output.data, 1)\n",
    "#     test_total += labels.size(0)\n",
    "#     test_correct += (test_predicts == labels).sum()\n",
    "#     accuracy = 100 * test_correct / test_total\n",
    "#     print('Epoch: ', epoch, '| train loss: %.4f' % loss.data[0], '| test accuracy: %.2f' % accuracy)\n",
    "    \n",
    "    \n",
    "    \n"
   ]
  },
  {
   "cell_type": "markdown",
   "metadata": {},
   "source": [
    "#### Q5:\n",
    "Please print the training and testing accuracy."
   ]
  },
  {
   "cell_type": "code",
   "execution_count": 26,
   "metadata": {},
   "outputs": [
    {
     "name": "stdout",
     "output_type": "stream",
     "text": [
      "epoch: 0, Train Acc: 0.869374, Test Acc: 0.916967\n",
      "epoch: 1, Train Acc: 0.923862, Test Acc: 0.938802\n",
      "epoch: 2, Train Acc: 0.943510, Test Acc: 0.950921\n",
      "epoch: 3, Train Acc: 0.953860, Test Acc: 0.958333\n",
      "epoch: 4, Train Acc: 0.961622, Test Acc: 0.962440\n",
      "epoch: 5, Train Acc: 0.965712, Test Acc: 0.965144\n",
      "epoch: 6, Train Acc: 0.969050, Test Acc: 0.963942\n",
      "epoch: 7, Train Acc: 0.972256, Test Acc: 0.965244\n",
      "epoch: 8, Train Acc: 0.974993, Test Acc: 0.967648\n",
      "epoch: 9, Train Acc: 0.976496, Test Acc: 0.970353\n"
     ]
    }
   ],
   "source": [
    "for epoch in range(10):\n",
    "    print('epoch: {}, Train Acc: {:.6f}, Test Acc: {:.6f}'.format(epoch, acces[epoch], test_acces[epoch]))"
   ]
  },
  {
   "cell_type": "code",
   "execution_count": null,
   "metadata": {},
   "outputs": [],
   "source": []
  }
 ],
 "metadata": {
  "kernelspec": {
   "display_name": "Python 3",
   "language": "python",
   "name": "python3"
  },
  "language_info": {
   "codemirror_mode": {
    "name": "ipython",
    "version": 3
   },
   "file_extension": ".py",
   "mimetype": "text/x-python",
   "name": "python",
   "nbconvert_exporter": "python",
   "pygments_lexer": "ipython3",
   "version": "3.6.3"
  }
 },
 "nbformat": 4,
 "nbformat_minor": 2
}
